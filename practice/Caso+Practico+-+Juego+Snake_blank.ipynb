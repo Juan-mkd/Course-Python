{
 "cells": [
  {
   "cell_type": "markdown",
   "metadata": {},
   "source": [
    "# Proyecto Final 1: Juego Snake"
   ]
  },
  {
   "cell_type": "markdown",
   "metadata": {},
   "source": [
    "### Enunciado y contexto del ejercicio"
   ]
  },
  {
   "cell_type": "markdown",
   "metadata": {},
   "source": [
    "¡En este ejercicio práctico vamos a implementar nuestro segundo videojuego en Python!\n",
    "\n",
    "Concretamente el juego que vamos a programar es el _Snake_, uno de los juegos más populares de todos los tiempos al que seguro que muchos de nosotros hemos jugado alguna vez. Este juego consiste en mover una serpiente dentro de un rectangulo comiendo puntos que hacen que el cuerpo de la serpiente aumente de tamaño. Si nos chocamos con alguno de los bordes o el propio cuerpo de la serpiente perderemos la partida. A continuación se muestra una imagen del juego."
   ]
  },
  {
   "cell_type": "markdown",
   "metadata": {},
   "source": [
    "<div>\n",
    "<img src=\"attachment:image.png\" width=\"500\"/>\n",
    "</div>"
   ]
  },
  {
   "cell_type": "markdown",
   "metadata": {},
   "source": [
    "¡Completa todos los apartados que se muestran a continuación para conseguir implementar estas funciones!"
   ]
  },
  {
   "cell_type": "markdown",
   "metadata": {},
   "source": [
    "### 1. Explora el paquete por defecto de Python `Turtle`"
   ]
  },
  {
   "cell_type": "markdown",
   "metadata": {},
   "source": [
    "Esta vez vamos a intentar que nuestro juego tenga una interfaz gráfica una poco más visual que la que implementamos en el juego del cuatro en raya. Para implementar estos gráficos en Python, vamos a utilizar un paquete muy sencillo denominado Turtle."
   ]
  },
  {
   "cell_type": "markdown",
   "metadata": {},
   "source": [
    "Turtle es un paquete de Python preinstalado que permite a los usuarios crear imágenes y formas proporcionándoles un lienzo virtual. El lápiz en pantalla que se utiliza para dibujar se llama turtle y esto es lo que da nombre a la biblioteca.\n",
    "\n",
    "Más información: https://docs.python.org/3/library/turtle.html"
   ]
  },
  {
   "cell_type": "markdown",
   "metadata": {},
   "source": [
    "<div style=\"background-color:#D9EEFF;color:black;padding:2%;\">\n",
    "Explora el paquete de Python Turtle y familiarizate con sus estructuras más populares.\n",
    "</div>"
   ]
  },
  {
   "cell_type": "markdown",
   "metadata": {},
   "source": [
    "**Pista:** Presta especial atención a las siguientes clases `Screen()` y a los siguientes métodos que exponen los objetos de esta clase: `title()`, `bgcolor()`, `setup()` y `tracer()`."
   ]
  },
  {
   "cell_type": "code",
   "execution_count": 8,
   "metadata": {},
   "outputs": [],
   "source": [
    "# se debe instlar para visual  tcl-tk para gestionar turtle en la ventana, claro esto creando un entorno venv\n",
    "\n",
    "import turtle"
   ]
  },
  {
   "cell_type": "code",
   "execution_count": 11,
   "metadata": {},
   "outputs": [],
   "source": [
    "screen = turtle.Screen()"
   ]
  },
  {
   "cell_type": "code",
   "execution_count": 12,
   "metadata": {},
   "outputs": [],
   "source": [
    "screen.title(\"Esto es le title de la ventana\")"
   ]
  },
  {
   "cell_type": "code",
   "execution_count": 13,
   "metadata": {},
   "outputs": [],
   "source": [
    "screen.bgcolor(\"green\")"
   ]
  },
  {
   "cell_type": "code",
   "execution_count": 14,
   "metadata": {},
   "outputs": [],
   "source": [
    "screen.setup(width=800, height=600)"
   ]
  },
  {
   "cell_type": "markdown",
   "metadata": {},
   "source": [
    "**Pista:** Presta especial atención a las siguientes clases `Turtle()` y a los siguientes métodos que exponen los objetos de esta clase: `goto()`, `speed()`, `shape()`, `color()` `penup()`, `write()`"
   ]
  },
  {
   "cell_type": "code",
   "execution_count": 16,
   "metadata": {},
   "outputs": [],
   "source": [
    "t = turtle.Turtle()"
   ]
  },
  {
   "cell_type": "code",
   "execution_count": 17,
   "metadata": {},
   "outputs": [],
   "source": [
    "t.goto(150,5)"
   ]
  },
  {
   "cell_type": "code",
   "execution_count": 18,
   "metadata": {},
   "outputs": [],
   "source": [
    "t.goto(-100,-30)"
   ]
  },
  {
   "cell_type": "code",
   "execution_count": 19,
   "metadata": {},
   "outputs": [],
   "source": [
    "t.speed(0)"
   ]
  },
  {
   "cell_type": "code",
   "execution_count": 23,
   "metadata": {},
   "outputs": [],
   "source": [
    "t.goto(280,30)"
   ]
  },
  {
   "cell_type": "code",
   "execution_count": 24,
   "metadata": {},
   "outputs": [],
   "source": [
    "t.shape(\"circle\")"
   ]
  },
  {
   "cell_type": "code",
   "execution_count": 25,
   "metadata": {},
   "outputs": [],
   "source": [
    "t.shape(\"square\")"
   ]
  },
  {
   "cell_type": "code",
   "execution_count": 26,
   "metadata": {},
   "outputs": [],
   "source": [
    "t.color(\"red\")"
   ]
  },
  {
   "cell_type": "code",
   "execution_count": null,
   "metadata": {},
   "outputs": [],
   "source": [
    "t.penup()"
   ]
  },
  {
   "cell_type": "code",
   "execution_count": 27,
   "metadata": {},
   "outputs": [],
   "source": [
    "t.write(\"JUAN esto es texto escrito en el lienzo \", align=\"center\",font=(\"courier\",24,\"normal\"))"
   ]
  },
  {
   "cell_type": "code",
   "execution_count": 28,
   "metadata": {},
   "outputs": [],
   "source": [
    "t2 = turtle.Turtle()"
   ]
  },
  {
   "cell_type": "code",
   "execution_count": 29,
   "metadata": {},
   "outputs": [],
   "source": [
    "t2.shape(\"circle\")"
   ]
  },
  {
   "cell_type": "code",
   "execution_count": 30,
   "metadata": {},
   "outputs": [],
   "source": [
    "t2.color(\"blue\")"
   ]
  },
  {
   "cell_type": "code",
   "execution_count": 31,
   "metadata": {},
   "outputs": [],
   "source": [
    "t2.sety(t2.ycor()+ 100)"
   ]
  },
  {
   "cell_type": "code",
   "execution_count": 32,
   "metadata": {},
   "outputs": [],
   "source": [
    "t.forward(20)"
   ]
  },
  {
   "cell_type": "code",
   "execution_count": 33,
   "metadata": {},
   "outputs": [],
   "source": [
    "t2.forward(20)"
   ]
  },
  {
   "cell_type": "markdown",
   "metadata": {},
   "source": [
    "**Pista:** Regresa de nuevo al objeto generado a partir de la clase `Screen()` e intenta mover el objeto turtle utilizando los métodos `listen()` y `onkeypress()`"
   ]
  },
  {
   "cell_type": "code",
   "execution_count": 36,
   "metadata": {},
   "outputs": [],
   "source": [
    "def move():\n",
    "    t2.sety(t2.ycor() -20)"
   ]
  },
  {
   "cell_type": "code",
   "execution_count": 37,
   "metadata": {},
   "outputs": [],
   "source": [
    "move()"
   ]
  },
  {
   "cell_type": "code",
   "execution_count": 38,
   "metadata": {},
   "outputs": [],
   "source": [
    "screen.listen()\n",
    "screen.onkeypress(move, \"s\")"
   ]
  },
  {
   "cell_type": "code",
   "execution_count": 40,
   "metadata": {},
   "outputs": [
    {
     "ename": "KeyboardInterrupt",
     "evalue": "",
     "output_type": "error",
     "traceback": [
      "\u001b[0;31m---------------------------------------------------------------------------\u001b[0m",
      "\u001b[0;31mKeyboardInterrupt\u001b[0m                         Traceback (most recent call last)",
      "Cell \u001b[0;32mIn[40], line 4\u001b[0m\n\u001b[1;32m      2\u001b[0m \u001b[38;5;28;01mwhile\u001b[39;00m \u001b[38;5;28;01mTrue\u001b[39;00m:\n\u001b[1;32m      3\u001b[0m     screen\u001b[38;5;241m.\u001b[39mupdate()\n\u001b[0;32m----> 4\u001b[0m     \u001b[43mtime\u001b[49m\u001b[38;5;241;43m.\u001b[39;49m\u001b[43msleep\u001b[49m\u001b[43m(\u001b[49m\u001b[38;5;241;43m0.1\u001b[39;49m\u001b[43m)\u001b[49m\n",
      "\u001b[0;31mKeyboardInterrupt\u001b[0m: "
     ]
    }
   ],
   "source": [
    "import time\n",
    "while True:\n",
    "    screen.update()\n",
    "    time.sleep(0.1)"
   ]
  },
  {
   "cell_type": "code",
   "execution_count": null,
   "metadata": {},
   "outputs": [],
   "source": [
    "screen.mainloop()"
   ]
  },
  {
   "cell_type": "code",
   "execution_count": null,
   "metadata": {},
   "outputs": [],
   "source": []
  },
  {
   "cell_type": "code",
   "execution_count": null,
   "metadata": {},
   "outputs": [],
   "source": []
  },
  {
   "cell_type": "markdown",
   "metadata": {},
   "source": [
    "### 2. Clase Snake"
   ]
  },
  {
   "cell_type": "markdown",
   "metadata": {},
   "source": [
    "Vamos a comenzar creando la pantalla en la que vamos a jugar al juego y la serpiente. Cuando comienza el juego, la serpiente es únicamente un cuadrado en la pantalla."
   ]
  },
  {
   "cell_type": "markdown",
   "metadata": {},
   "source": [
    "<div>\n",
    "<img src=\"attachment:image-2.png\" width=\"300\"/>\n",
    "</div>"
   ]
  },
  {
   "cell_type": "markdown",
   "metadata": {},
   "source": [
    "<div style=\"background-color:#D9EEFF;color:black;padding:2%;\">\n",
    "Implementa una clase que inicialice la pantalla en la que vamos a jugar al juego, la serpiente y el texto que vamos a mostrar por pantalla.\n",
    "</div>"
   ]
  },
  {
   "cell_type": "code",
   "execution_count": 3,
   "metadata": {},
   "outputs": [],
   "source": [
    "import turtle"
   ]
  },
  {
   "cell_type": "code",
   "execution_count": 4,
   "metadata": {},
   "outputs": [],
   "source": [
    "class SnakeGame:\n",
    "    def __init__(self,width = 600,height = 600, color = \"green\"):\n",
    "        \"\"\"Inicializar los componentes del juego\"\"\"\n",
    "        self.screen = turtle.Screen()\n",
    "        self.screen.title(\"JUEGO SNAKE\")\n",
    "        self.screen.bgcolor(color)\n",
    "        self.screen.setup(width=width ,height=height)\n",
    "        #Inicializa la serpiente\n",
    "        self.snake = turtle.Turtle()\n",
    "        self.snake.speed(0)\n",
    "        self.snake.shape(\"square\")\n",
    "        self.snake.color(\"black\")\n",
    "        self.snake.penup()\n",
    "        self.snake.goto(0,0)\n",
    "        #Inicializar el texto que se muestra en la pantalla\n",
    "        self.texto = turtle.Turtle()\n",
    "        self.texto.speed(0)\n",
    "        self.texto.shape(\"square\")\n",
    "        self.texto.color(\"white\")\n",
    "        self.texto.penup()\n",
    "        self.texto.hideturtle()\n",
    "        self.texto.goto(0,(height / 2) -40)\n",
    "        self.texto.write(\"Points: 0 Record: 0\", align='center',font=(\"courier\",24,\"normal\"))\n",
    "        \n"
   ]
  },
  {
   "cell_type": "code",
   "execution_count": 5,
   "metadata": {},
   "outputs": [
    {
     "ename": "",
     "evalue": "",
     "output_type": "error",
     "traceback": [
      "\u001b[1;31mThe Kernel crashed while executing code in the current cell or a previous cell. \n",
      "\u001b[1;31mPlease review the code in the cell(s) to identify a possible cause of the failure. \n",
      "\u001b[1;31mClick <a href='https://aka.ms/vscodeJupyterKernelCrash'>here</a> for more info. \n",
      "\u001b[1;31mView Jupyter <a href='command:jupyter.viewOutput'>log</a> for further details."
     ]
    }
   ],
   "source": [
    "juego_snake = SnakeGame()"
   ]
  },
  {
   "cell_type": "markdown",
   "metadata": {},
   "source": [
    "### 3. Implementa los movimientos de la serpiente"
   ]
  },
  {
   "cell_type": "markdown",
   "metadata": {},
   "source": [
    "Ya tenemos nuestra pantalla implementada y la serpiente representada como un cuadrado negro. En este punto debemos comenzar a implementar los movimientos de la serpiente por la pantalla."
   ]
  },
  {
   "cell_type": "markdown",
   "metadata": {},
   "source": [
    "<div style=\"background-color:#D9EEFF;color:black;padding:2%;\">\n",
    "Añade a la clase Snake los métodos que consideres necesarios para habilitar el movimiento de serpiente por la pantalla. Ten en cuenta que estos métodos tendrán que invocarse más adelante mediante la pulsación de una tecla.\n",
    "</div>"
   ]
  },
  {
   "cell_type": "code",
   "execution_count": 1,
   "metadata": {},
   "outputs": [],
   "source": [
    "import turtle"
   ]
  },
  {
   "cell_type": "code",
   "execution_count": 2,
   "metadata": {},
   "outputs": [],
   "source": [
    "class SnakeGame:\n",
    "    def __init__(self,width = 600,height = 600, color = \"green\"):\n",
    "        \"\"\"Inicializar los componentes del juego\"\"\"\n",
    "        self.screen = turtle.Screen()\n",
    "        self.screen.title(\"JUEGO SNAKE\")\n",
    "        self.screen.bgcolor(color)\n",
    "        self.screen.setup(width=width ,height=height)\n",
    "        #Inicializa la serpiente\n",
    "        self.snake = turtle.Turtle()\n",
    "        self.snake.speed(0)\n",
    "        self.snake.shape(\"square\")\n",
    "        self.snake.color(\"black\")\n",
    "        self.snake.penup()\n",
    "        self.snake.goto(0,0)\n",
    "        #Inicializar el texto que se muestra en la pantalla\n",
    "        self.texto = turtle.Turtle()\n",
    "        self.texto.speed(0)\n",
    "        self.texto.shape(\"square\")\n",
    "        self.texto.color(\"white\")\n",
    "        self.texto.penup()\n",
    "        self.texto.hideturtle()\n",
    "        self.texto.goto(0,(height / 2) -40)\n",
    "        self.texto.write(\"Points: 0 Record: 0\", align='center',font=(\"courier\",24,\"normal\"))\n",
    "        #atributos de la class\n",
    "        self._direccion = None\n",
    "\n",
    "    #methods de la class\n",
    "    def arriba(self):\n",
    "        \"\"\"Este metodo define el movimiento hacia arriba de la serpiente\"\"\"\n",
    "        if self._direccion != \"abajo\":\n",
    "            self._direccion = \"arriba\"\n",
    "        \n",
    "    def abajo(self):\n",
    "        if self._direccion != \"arriba\":\n",
    "            self._direccion = \"abajo\"\n",
    "\n",
    "    def izquierda(self):\n",
    "        if self._direccion != \"derecha\":\n",
    "            self._direccion = \"izquierda\"\n",
    "\n",
    "    def derecha(self):\n",
    "        if self._direccion != \"izquierda\":\n",
    "            self._direccion = \"derecha\"\n",
    "\n",
    "    def move(self):\n",
    "        \"\"\"se podria hacer una case?\"\"\"\n",
    "        if self._direccion == \"arriba\":\n",
    "            y = self.snake.ycor()\n",
    "            self.snake.sety(y + 20)\n",
    "\n",
    "        elif self._direccion == \"abajo\":\n",
    "            y = self.snake.ycor()\n",
    "            self.snake.ycor(y - 20)\n",
    "\n",
    "        elif self._direccion == \"izquierda\":\n",
    "            x = self.snake.xcor()\n",
    "            self.snake.setx(x - 20)\n",
    "\n",
    "        elif self._direccion == \"derecha\":\n",
    "            x = self.snake.xcor()\n",
    "            self.snake.setx(x + 20)\n",
    "\n",
    "        \n",
    "\n",
    "\n"
   ]
  },
  {
   "cell_type": "code",
   "execution_count": 3,
   "metadata": {},
   "outputs": [],
   "source": [
    "snake_game = SnakeGame()"
   ]
  },
  {
   "cell_type": "code",
   "execution_count": 4,
   "metadata": {},
   "outputs": [],
   "source": [
    "snake_game.arriba()"
   ]
  },
  {
   "cell_type": "code",
   "execution_count": 5,
   "metadata": {},
   "outputs": [],
   "source": [
    "snake_game.move()"
   ]
  },
  {
   "cell_type": "code",
   "execution_count": 6,
   "metadata": {},
   "outputs": [],
   "source": [
    "snake_game.derecha()"
   ]
  },
  {
   "cell_type": "code",
   "execution_count": 7,
   "metadata": {},
   "outputs": [],
   "source": [
    "snake_game.move()"
   ]
  },
  {
   "cell_type": "code",
   "execution_count": 8,
   "metadata": {},
   "outputs": [],
   "source": [
    "snake_game.arriba()"
   ]
  },
  {
   "cell_type": "code",
   "execution_count": 9,
   "metadata": {},
   "outputs": [],
   "source": [
    "snake_game.move()"
   ]
  },
  {
   "cell_type": "code",
   "execution_count": null,
   "metadata": {},
   "outputs": [],
   "source": []
  },
  {
   "cell_type": "markdown",
   "metadata": {},
   "source": [
    "### 4. Implementa los movimientos de la serpiente utilizando las teclas"
   ]
  },
  {
   "cell_type": "markdown",
   "metadata": {},
   "source": [
    "Si has llegado hasta este apartado, ya tienes una parte importante de tu videojuego implementada. Una vez que has conseguido mover la serpiente por la pantalla, ahora debes permitir que estos movimientos se realicen mediante la pulsación de una tecla."
   ]
  },
  {
   "cell_type": "markdown",
   "metadata": {},
   "source": [
    "<div style=\"background-color:#D9EEFF;color:black;padding:2%;\">\n",
    "Implementan el código dentro de la clase Snake y fuera de ella que consideres necesarios para mover la serpiente por la pantalla pulsando una tecla.\n",
    "</div>"
   ]
  },
  {
   "cell_type": "code",
   "execution_count": 1,
   "metadata": {},
   "outputs": [],
   "source": [
    "import turtle\n"
   ]
  },
  {
   "cell_type": "code",
   "execution_count": 2,
   "metadata": {},
   "outputs": [],
   "source": [
    "import time\n",
    "class SnakeGame:\n",
    "    def __init__(self,width = 600,height = 600, color = \"green\"):\n",
    "        \"\"\"Inicializar los componentes del juego\"\"\"\n",
    "        self.screen = turtle.Screen()\n",
    "        self.screen.title(\"JUEGO SNAKE\")\n",
    "        self.screen.bgcolor(color)\n",
    "        self.screen.setup(width=width ,height=height)\n",
    "        #Inicializa la serpiente\n",
    "        self.snake = turtle.Turtle()\n",
    "        self.snake.speed(0)\n",
    "        self.snake.shape(\"square\")\n",
    "        self.snake.color(\"black\")\n",
    "        self.snake.penup()\n",
    "        self.snake.goto(0,0)\n",
    "        #Inicializar el texto que se muestra en la pantalla\n",
    "        self.texto = turtle.Turtle()\n",
    "        self.texto.speed(0)\n",
    "        self.texto.shape(\"square\")\n",
    "        self.texto.color(\"white\")\n",
    "        self.texto.penup()\n",
    "        self.texto.hideturtle()\n",
    "        self.texto.goto(0,(height / 2) -40)\n",
    "        self.texto.write(\"Points: 0 Record: 0\", align='center',font=(\"courier\",24,\"normal\"))\n",
    "        #atributos de la class\n",
    "        self._direccion = None\n",
    "        self._delay = 0.1\n",
    "\n",
    "\n",
    "        #Asociacion de los movimientos y las teclas\n",
    "        self.screen.listen()\n",
    "        self.screen.onkeypress(self.arriba, \"w\")\n",
    "        self.screen.onkeypress(self.arriba, \"s\")\n",
    "        self.screen.onkeypress(self.izquierda, \"a\")\n",
    "        self.screen.onkeypress(self.derecha, \"d\")\n",
    "\n",
    "\n",
    "    #methods de la class\n",
    "    def arriba(self):\n",
    "        \"\"\"Este metodo define el movimiento hacia arriba de la serpiente\"\"\"\n",
    "        if self._direccion != \"abajo\":\n",
    "            self._direccion = \"arriba\"\n",
    "        \n",
    "    def abajo(self):\n",
    "        if self._direccion != \"arriba\":\n",
    "            self._direccion = \"abajo\"\n",
    "\n",
    "    def izquierda(self):\n",
    "        if self._direccion != \"derecha\":\n",
    "            self._direccion = \"izquierda\"\n",
    "\n",
    "    def derecha(self):\n",
    "        if self._direccion != \"izquierda\":\n",
    "            self._direccion = \"derecha\"\n",
    "\n",
    "    def move(self):\n",
    "        \"\"\"se podria hacer una case?\"\"\"\n",
    "        if self._direccion == \"arriba\":\n",
    "            y = self.snake.ycor()\n",
    "            self.snake.sety(y + 20)\n",
    "\n",
    "        elif self._direccion == \"abajo\":\n",
    "            y = self.snake.ycor()\n",
    "            self.snake.ycor(y - 20)\n",
    "\n",
    "        elif self._direccion == \"izquierda\":\n",
    "            x = self.snake.xcor()\n",
    "            self.snake.setx(x - 20)\n",
    "\n",
    "        elif self._direccion == \"derecha\":\n",
    "            x = self.snake.xcor()\n",
    "            self.snake.setx(x + 20)\n",
    "\n",
    "    def jugar(self):\n",
    "        while True:\n",
    "            self.screen.update()\n",
    "            time.sleep(self._delay)\n",
    "            self.move()\n",
    "\n",
    "        self.screen.mainloop()\n",
    "\n"
   ]
  },
  {
   "cell_type": "code",
   "execution_count": 3,
   "metadata": {},
   "outputs": [],
   "source": [
    "snake_game = SnakeGame()"
   ]
  },
  {
   "cell_type": "code",
   "execution_count": 4,
   "metadata": {},
   "outputs": [
    {
     "ename": "KeyboardInterrupt",
     "evalue": "",
     "output_type": "error",
     "traceback": [
      "\u001b[0;31m---------------------------------------------------------------------------\u001b[0m",
      "\u001b[0;31mKeyboardInterrupt\u001b[0m                         Traceback (most recent call last)",
      "Cell \u001b[0;32mIn[4], line 1\u001b[0m\n\u001b[0;32m----> 1\u001b[0m \u001b[43msnake_game\u001b[49m\u001b[38;5;241;43m.\u001b[39;49m\u001b[43mjugar\u001b[49m\u001b[43m(\u001b[49m\u001b[43m)\u001b[49m\n",
      "Cell \u001b[0;32mIn[2], line 77\u001b[0m, in \u001b[0;36mSnakeGame.jugar\u001b[0;34m(self)\u001b[0m\n\u001b[1;32m     75\u001b[0m \u001b[38;5;28;01mwhile\u001b[39;00m \u001b[38;5;28;01mTrue\u001b[39;00m:\n\u001b[1;32m     76\u001b[0m     \u001b[38;5;28mself\u001b[39m\u001b[38;5;241m.\u001b[39mscreen\u001b[38;5;241m.\u001b[39mupdate()\n\u001b[0;32m---> 77\u001b[0m     \u001b[43mtime\u001b[49m\u001b[38;5;241;43m.\u001b[39;49m\u001b[43msleep\u001b[49m\u001b[43m(\u001b[49m\u001b[38;5;28;43mself\u001b[39;49m\u001b[38;5;241;43m.\u001b[39;49m\u001b[43m_delay\u001b[49m\u001b[43m)\u001b[49m\n\u001b[1;32m     78\u001b[0m     \u001b[38;5;28mself\u001b[39m\u001b[38;5;241m.\u001b[39mmove()\n\u001b[1;32m     80\u001b[0m \u001b[38;5;28mself\u001b[39m\u001b[38;5;241m.\u001b[39mscreen\u001b[38;5;241m.\u001b[39mmainloop()\n",
      "\u001b[0;31mKeyboardInterrupt\u001b[0m: "
     ]
    },
    {
     "ename": "",
     "evalue": "",
     "output_type": "error",
     "traceback": [
      "\u001b[1;31mThe Kernel crashed while executing code in the current cell or a previous cell. \n",
      "\u001b[1;31mPlease review the code in the cell(s) to identify a possible cause of the failure. \n",
      "\u001b[1;31mClick <a href='https://aka.ms/vscodeJupyterKernelCrash'>here</a> for more info. \n",
      "\u001b[1;31mView Jupyter <a href='command:jupyter.viewOutput'>log</a> for further details."
     ]
    }
   ],
   "source": [
    "snake_game.jugar()"
   ]
  },
  {
   "cell_type": "markdown",
   "metadata": {},
   "source": [
    "### 5. Implementa las colisiones con los bordes"
   ]
  },
  {
   "cell_type": "markdown",
   "metadata": {},
   "source": [
    "Ya tenemos implementado uno de los comportamientos más importantes de nuestro videojuego como es el movimiento de la serpiente. Sin embargo, podemos observar como la serpiente no respeta los bordes y puede traspasarlos. Implementa las colisiones con los bordes de la pantalla para que se mantenga siempre en el recuadro."
   ]
  },
  {
   "cell_type": "markdown",
   "metadata": {},
   "source": [
    "<div style=\"background-color:#D9EEFF;color:black;padding:2%;\">\n",
    "Implementa los métodos que consideres necesarios para limitar el movimiento de la serpiente a la pantalla que se está mostrando. Si la serpiente choca con un borde, debe volver al centro de la pantalla.\n",
    "</div>"
   ]
  },
  {
   "cell_type": "code",
   "execution_count": 1,
   "metadata": {},
   "outputs": [],
   "source": [
    "import turtle"
   ]
  },
  {
   "cell_type": "code",
   "execution_count": 2,
   "metadata": {},
   "outputs": [],
   "source": [
    "\n",
    "import time\n",
    "class SnakeGame:\n",
    "    def __init__(self,width = 600,height = 600, color = \"green\"):\n",
    "        \"\"\"Inicializar los componentes del juego\"\"\"\n",
    "        self._ancho = width\n",
    "        self._alto = height\n",
    "        #Inicializar pantalla\n",
    "        self.screen = turtle.Screen()\n",
    "        self.screen.title(\"JUEGO SNAKE\")\n",
    "        self.screen.bgcolor(color)\n",
    "        self.screen.setup(width=width ,height=height)\n",
    "        self.screen.tracer(0)\n",
    "        #Inicializa la serpiente\n",
    "        self.snake = turtle.Turtle()\n",
    "        self.snake.speed(0)\n",
    "        self.snake.shape(\"square\")\n",
    "        self.snake.color(\"black\")\n",
    "        self.snake.penup()\n",
    "        self.snake.goto(0,0)\n",
    "        #Inicializar el texto que se muestra en la pantalla\n",
    "        self.texto = turtle.Turtle()\n",
    "        self.texto.speed(0)\n",
    "        self.texto.shape(\"square\")\n",
    "        self.texto.color(\"white\")\n",
    "        self.texto.penup()\n",
    "        self.texto.hideturtle()\n",
    "        self.texto.goto(0,(height / 2) -40)\n",
    "        self.texto.write(\"Points: 0 Record: 0\", align='center',font=(\"courier\",24,\"normal\"))\n",
    "        #atributos de la class\n",
    "        self._direccion = None\n",
    "        self._delay = 0.1\n",
    "\n",
    "\n",
    "        #Asociacion de los movimientos y las teclas\n",
    "        self.screen.listen()\n",
    "        self.screen.onkeypress(self.arriba, \"w\")\n",
    "        self.screen.onkeypress(self.abajo, \"s\")\n",
    "        self.screen.onkeypress(self.izquierda, \"a\")\n",
    "        self.screen.onkeypress(self.derecha, \"d\")\n",
    "\n",
    "\n",
    "    #methods de la class\n",
    "    def arriba(self):\n",
    "        \"\"\"Este metodo define el movimiento hacia arriba de la serpiente\"\"\"\n",
    "        if self._direccion != \"abajo\":\n",
    "            self._direccion = \"arriba\"\n",
    "        \n",
    "    def abajo(self):\n",
    "        if self._direccion != \"arriba\":\n",
    "            self._direccion = \"abajo\"\n",
    "\n",
    "    def izquierda(self):\n",
    "        if self._direccion != \"derecha\":\n",
    "            self._direccion = \"izquierda\"\n",
    "\n",
    "    def derecha(self):\n",
    "        if self._direccion != \"izquierda\":\n",
    "            self._direccion = \"derecha\"\n",
    "\n",
    "    def move(self):\n",
    "        \"\"\"se podria hacer una case?\"\"\"\n",
    "        if self._direccion == \"arriba\":\n",
    "            y = self.snake.ycor()\n",
    "            self.snake.sety(y + 20)\n",
    "\n",
    "        elif self._direccion == \"abajo\":\n",
    "            y = self.snake.ycor()\n",
    "            self.snake.sety(y - 20)\n",
    "\n",
    "        elif self._direccion == \"izquierda\":\n",
    "            x = self.snake.xcor()\n",
    "            self.snake.setx(x - 20)\n",
    "\n",
    "        elif self._direccion == \"derecha\":\n",
    "            x = self.snake.xcor()\n",
    "            self.snake.setx(x + 20)\n",
    "\n",
    "    def jugar(self):\n",
    "        while True:\n",
    "            self.screen.update()\n",
    "            self.colision_borde()\n",
    "            time.sleep(self._delay)\n",
    "            self.move()\n",
    "\n",
    "        self.screen.mainloop()\n",
    "\n",
    "    def colision_borde(self):\n",
    "        bxcor = (self._ancho // 2) - 10\n",
    "        bycor = (self._alto // 2) - 10\n",
    "        \n",
    "        if self.snake.xcor() > bxcor or self.snake.xcor() < -bxcor or self.snake.ycor() > bycor or self.snake.ycor() < -bycor:\n",
    "            time.sleep(1)\n",
    "            self.snake.goto(0,0)\n",
    "            self._direccion = None\n",
    "            self.texto.clear()\n",
    "            self.texto.write(\"Points: 0  Record: 0\", align=\"center\",font=(\"courier\", 24, \"normal\"))\n"
   ]
  },
  {
   "cell_type": "code",
   "execution_count": 3,
   "metadata": {},
   "outputs": [],
   "source": [
    "snake_game = SnakeGame()"
   ]
  },
  {
   "cell_type": "code",
   "execution_count": 4,
   "metadata": {},
   "outputs": [
    {
     "ename": "Terminator",
     "evalue": "",
     "output_type": "error",
     "traceback": [
      "\u001b[0;31m---------------------------------------------------------------------------\u001b[0m",
      "\u001b[0;31mTerminator\u001b[0m                                Traceback (most recent call last)",
      "Cell \u001b[0;32mIn[4], line 1\u001b[0m\n\u001b[0;32m----> 1\u001b[0m \u001b[43msnake_game\u001b[49m\u001b[38;5;241;43m.\u001b[39;49m\u001b[43mjugar\u001b[49m\u001b[43m(\u001b[49m\u001b[43m)\u001b[49m\n",
      "Cell \u001b[0;32mIn[2], line 80\u001b[0m, in \u001b[0;36mSnakeGame.jugar\u001b[0;34m(self)\u001b[0m\n\u001b[1;32m     78\u001b[0m \u001b[38;5;28;01mdef\u001b[39;00m \u001b[38;5;21mjugar\u001b[39m(\u001b[38;5;28mself\u001b[39m):\n\u001b[1;32m     79\u001b[0m     \u001b[38;5;28;01mwhile\u001b[39;00m \u001b[38;5;28;01mTrue\u001b[39;00m:\n\u001b[0;32m---> 80\u001b[0m         \u001b[38;5;28;43mself\u001b[39;49m\u001b[38;5;241;43m.\u001b[39;49m\u001b[43mscreen\u001b[49m\u001b[38;5;241;43m.\u001b[39;49m\u001b[43mupdate\u001b[49m\u001b[43m(\u001b[49m\u001b[43m)\u001b[49m\n\u001b[1;32m     81\u001b[0m         \u001b[38;5;28mself\u001b[39m\u001b[38;5;241m.\u001b[39mcolision_borde()\n\u001b[1;32m     82\u001b[0m         time\u001b[38;5;241m.\u001b[39msleep(\u001b[38;5;28mself\u001b[39m\u001b[38;5;241m.\u001b[39m_delay)\n",
      "File \u001b[0;32m/usr/local/Cellar/python@3.13/3.13.0_1/Frameworks/Python.framework/Versions/3.13/lib/python3.13/turtle.py:1294\u001b[0m, in \u001b[0;36mTurtleScreen.update\u001b[0;34m(self)\u001b[0m\n\u001b[1;32m   1292\u001b[0m \u001b[38;5;28mself\u001b[39m\u001b[38;5;241m.\u001b[39m_tracing \u001b[38;5;241m=\u001b[39m \u001b[38;5;28;01mTrue\u001b[39;00m\n\u001b[1;32m   1293\u001b[0m \u001b[38;5;28;01mfor\u001b[39;00m t \u001b[38;5;129;01min\u001b[39;00m \u001b[38;5;28mself\u001b[39m\u001b[38;5;241m.\u001b[39mturtles():\n\u001b[0;32m-> 1294\u001b[0m     \u001b[43mt\u001b[49m\u001b[38;5;241;43m.\u001b[39;49m\u001b[43m_update_data\u001b[49m\u001b[43m(\u001b[49m\u001b[43m)\u001b[49m\n\u001b[1;32m   1295\u001b[0m     t\u001b[38;5;241m.\u001b[39m_drawturtle()\n\u001b[1;32m   1296\u001b[0m \u001b[38;5;28mself\u001b[39m\u001b[38;5;241m.\u001b[39m_tracing \u001b[38;5;241m=\u001b[39m tracing\n",
      "File \u001b[0;32m/usr/local/Cellar/python@3.13/3.13.0_1/Frameworks/Python.framework/Versions/3.13/lib/python3.13/turtle.py:2653\u001b[0m, in \u001b[0;36mRawTurtle._update_data\u001b[0;34m(self)\u001b[0m\n\u001b[1;32m   2652\u001b[0m \u001b[38;5;28;01mdef\u001b[39;00m \u001b[38;5;21m_update_data\u001b[39m(\u001b[38;5;28mself\u001b[39m):\n\u001b[0;32m-> 2653\u001b[0m     \u001b[38;5;28;43mself\u001b[39;49m\u001b[38;5;241;43m.\u001b[39;49m\u001b[43mscreen\u001b[49m\u001b[38;5;241;43m.\u001b[39;49m\u001b[43m_incrementudc\u001b[49m\u001b[43m(\u001b[49m\u001b[43m)\u001b[49m\n\u001b[1;32m   2654\u001b[0m     \u001b[38;5;28;01mif\u001b[39;00m \u001b[38;5;28mself\u001b[39m\u001b[38;5;241m.\u001b[39mscreen\u001b[38;5;241m.\u001b[39m_updatecounter \u001b[38;5;241m!=\u001b[39m \u001b[38;5;241m0\u001b[39m:\n\u001b[1;32m   2655\u001b[0m         \u001b[38;5;28;01mreturn\u001b[39;00m\n",
      "File \u001b[0;32m/usr/local/Cellar/python@3.13/3.13.0_1/Frameworks/Python.framework/Versions/3.13/lib/python3.13/turtle.py:1283\u001b[0m, in \u001b[0;36mTurtleScreen._incrementudc\u001b[0;34m(self)\u001b[0m\n\u001b[1;32m   1281\u001b[0m \u001b[38;5;28;01mif\u001b[39;00m \u001b[38;5;129;01mnot\u001b[39;00m TurtleScreen\u001b[38;5;241m.\u001b[39m_RUNNING:\n\u001b[1;32m   1282\u001b[0m     TurtleScreen\u001b[38;5;241m.\u001b[39m_RUNNING \u001b[38;5;241m=\u001b[39m \u001b[38;5;28;01mTrue\u001b[39;00m\n\u001b[0;32m-> 1283\u001b[0m     \u001b[38;5;28;01mraise\u001b[39;00m Terminator\n\u001b[1;32m   1284\u001b[0m \u001b[38;5;28;01mif\u001b[39;00m \u001b[38;5;28mself\u001b[39m\u001b[38;5;241m.\u001b[39m_tracing \u001b[38;5;241m>\u001b[39m \u001b[38;5;241m0\u001b[39m:\n\u001b[1;32m   1285\u001b[0m     \u001b[38;5;28mself\u001b[39m\u001b[38;5;241m.\u001b[39m_updatecounter \u001b[38;5;241m+\u001b[39m\u001b[38;5;241m=\u001b[39m \u001b[38;5;241m1\u001b[39m\n",
      "\u001b[0;31mTerminator\u001b[0m: "
     ]
    }
   ],
   "source": [
    "snake_game.jugar()"
   ]
  },
  {
   "cell_type": "markdown",
   "metadata": {},
   "source": [
    "### 6. Implementa la comida de la serpiente"
   ]
  },
  {
   "cell_type": "markdown",
   "metadata": {},
   "source": [
    "Lo siguiente importante que debemos implementar en nuestro juego es la comida de la serpiente. Esto es lo que nos permite aumentar los puntos y que la serpiente aumente de tamaño. La comida debe aparecer aleatoriamente por la pantalla."
   ]
  },
  {
   "cell_type": "markdown",
   "metadata": {},
   "source": [
    "<div style=\"background-color:#D9EEFF;color:black;padding:2%;\">\n",
    "Implementa los métodos que consideres necesarios para generar la comida de manera aleatoria en la pantalla. La comida debe ser un circulo del mismo tamaño que la serpiente.\n",
    "</div>"
   ]
  },
  {
   "cell_type": "code",
   "execution_count": 1,
   "metadata": {},
   "outputs": [],
   "source": [
    "import turtle"
   ]
  },
  {
   "cell_type": "code",
   "execution_count": 2,
   "metadata": {},
   "outputs": [],
   "source": [
    "import time\n",
    "import random\n",
    "class SnakeGame:\n",
    "    def __init__(self,width = 600,height = 600, color = \"green\"):\n",
    "        \"\"\"Inicializar los componentes del juego\"\"\"\n",
    "        self._ancho = width\n",
    "        self._alto = height\n",
    "        #Inicializar pantalla\n",
    "        self.screen = turtle.Screen()\n",
    "        self.screen.title(\"JUEGO SNAKE\")\n",
    "        self.screen.bgcolor(color)\n",
    "        self.screen.setup(width=width ,height=height)\n",
    "        self.screen.tracer(0)\n",
    "        #Inicializa la serpiente\n",
    "        self.snake = turtle.Turtle()\n",
    "        self.snake.speed(0)\n",
    "        self.snake.shape(\"square\")\n",
    "        self.snake.color(\"black\")\n",
    "        self.snake.penup()\n",
    "        self.snake.goto(0,0)\n",
    "        #Inicializar el texto que se muestra en la pantalla\n",
    "        self.texto = turtle.Turtle()\n",
    "        self.texto.speed(0)\n",
    "        self.texto.shape(\"square\")\n",
    "        self.texto.color(\"white\")\n",
    "        self.texto.penup()\n",
    "        self.texto.hideturtle()\n",
    "        self.texto.goto(0,(height / 2) -40)\n",
    "        \n",
    "        #inicializacion de la comida de la serpiente\n",
    "        self.comida = turtle.Turtle()\n",
    "        self.comida.speed(0)\n",
    "        self.comida.shape('circle')\n",
    "        self.comida.color(\"red\")\n",
    "        self.comida.penup()\n",
    "        self.comida.goto(0,100)\n",
    "        #atributos de la class\n",
    "        self._direccion = None\n",
    "        self._delay = 0.1\n",
    "        self._score = 0\n",
    "        self._heigth_score = 0\n",
    "\n",
    "\n",
    "        #Asociacion de los movimientos y las teclas\n",
    "        self.screen.listen()\n",
    "        self.screen.onkeypress(self.arriba, \"w\")\n",
    "        self.screen.onkeypress(self.abajo, \"s\")\n",
    "        self.screen.onkeypress(self.izquierda, \"a\")\n",
    "        self.screen.onkeypress(self.derecha, \"d\")\n",
    "        #print el texto por pantalla\n",
    "        self._print_score()\n",
    "\n",
    "\n",
    "    #methods de la class\n",
    "    def arriba(self):\n",
    "        \"\"\"Este metodo define el movimiento hacia arriba de la serpiente\"\"\"\n",
    "        if self._direccion != \"abajo\":\n",
    "            self._direccion = \"arriba\"\n",
    "        \n",
    "    def abajo(self):\n",
    "        if self._direccion != \"arriba\":\n",
    "            self._direccion = \"abajo\"\n",
    "\n",
    "    def izquierda(self):\n",
    "        if self._direccion != \"derecha\":\n",
    "            self._direccion = \"izquierda\"\n",
    "\n",
    "    def derecha(self):\n",
    "        if self._direccion != \"izquierda\":\n",
    "            self._direccion = \"derecha\"\n",
    "\n",
    "    def move(self):\n",
    "        \"\"\"se podria hacer una case?\"\"\"\n",
    "        if self._direccion == \"arriba\":\n",
    "            y = self.snake.ycor()\n",
    "            self.snake.sety(y + 20)\n",
    "\n",
    "        elif self._direccion == \"abajo\":\n",
    "            y = self.snake.ycor()\n",
    "            self.snake.sety(y - 20)\n",
    "\n",
    "        elif self._direccion == \"izquierda\":\n",
    "            x = self.snake.xcor()\n",
    "            self.snake.setx(x - 20)\n",
    "\n",
    "        elif self._direccion == \"derecha\":\n",
    "            x = self.snake.xcor()\n",
    "            self.snake.setx(x + 20)\n",
    "\n",
    "    def jugar(self):\n",
    "        while True:\n",
    "            self.screen.update()\n",
    "            self.colision_borde()\n",
    "            self.colision_comida()\n",
    "            time.sleep(self._delay)\n",
    "            self.move()\n",
    "\n",
    "        self.screen.mainloop()\n",
    "\n",
    "    def colision_borde(self):\n",
    "        bxcor = (self._ancho // 2) - 10\n",
    "        bycor = (self._alto // 2) - 10\n",
    "        \n",
    "        if self.snake.xcor() > bxcor or self.snake.xcor() < -bxcor or self.snake.ycor() > bycor or self.snake.ycor() < -bycor:\n",
    "            time.sleep(1)\n",
    "            self.snake.goto(0,0)\n",
    "            self._direccion = None\n",
    "            self.texto.clear()\n",
    "            self._print_score()\n",
    "            #reiniciar el delete\n",
    "            self._delay = 0.1\n",
    "            #reiniciar el sore\n",
    "            if self._score > self._heigth_score:\n",
    "                self._heigth_score = self._score\n",
    "            self._score = 0\n",
    "            self._print_score()\n",
    "\n",
    "    def colision_comida(self):\n",
    "        if self.snake.distance(self.comida) < 20:\n",
    "            #mover la comida a un lugar aleatorio\n",
    "            bxcor = (self._ancho // 2) - 10\n",
    "            bycor = (self._alto // 2) - 10\n",
    "            x = random.randint(-bxcor, bxcor)\n",
    "            y = random.randint(-bycor,bycor)\n",
    "            self.comida.goto(x,y)\n",
    "            #reducir el dalay\n",
    "            self._delay -= 0.001\n",
    "            #Aumentar el score\n",
    "            self._score += 10\n",
    "            self._print_score()\n",
    "\n",
    "    \n",
    "    def _print_score(self):\n",
    "        self.texto.clear()\n",
    "        self.texto.write(\"Points: {}  Record: {}\".format(self._score, self._heigth_score), align=\"center\",font=(\"courier\", 24, \"normal\"))\n"
   ]
  },
  {
   "cell_type": "code",
   "execution_count": 3,
   "metadata": {},
   "outputs": [],
   "source": [
    "snake_game = SnakeGame()"
   ]
  },
  {
   "cell_type": "code",
   "execution_count": 4,
   "metadata": {},
   "outputs": [
    {
     "ename": "Terminator",
     "evalue": "",
     "output_type": "error",
     "traceback": [
      "\u001b[0;31m---------------------------------------------------------------------------\u001b[0m",
      "\u001b[0;31mTerminator\u001b[0m                                Traceback (most recent call last)",
      "Cell \u001b[0;32mIn[4], line 1\u001b[0m\n\u001b[0;32m----> 1\u001b[0m \u001b[43msnake_game\u001b[49m\u001b[38;5;241;43m.\u001b[39;49m\u001b[43mjugar\u001b[49m\u001b[43m(\u001b[49m\u001b[43m)\u001b[49m\n",
      "Cell \u001b[0;32mIn[2], line 92\u001b[0m, in \u001b[0;36mSnakeGame.jugar\u001b[0;34m(self)\u001b[0m\n\u001b[1;32m     90\u001b[0m \u001b[38;5;28;01mdef\u001b[39;00m \u001b[38;5;21mjugar\u001b[39m(\u001b[38;5;28mself\u001b[39m):\n\u001b[1;32m     91\u001b[0m     \u001b[38;5;28;01mwhile\u001b[39;00m \u001b[38;5;28;01mTrue\u001b[39;00m:\n\u001b[0;32m---> 92\u001b[0m         \u001b[38;5;28;43mself\u001b[39;49m\u001b[38;5;241;43m.\u001b[39;49m\u001b[43mscreen\u001b[49m\u001b[38;5;241;43m.\u001b[39;49m\u001b[43mupdate\u001b[49m\u001b[43m(\u001b[49m\u001b[43m)\u001b[49m\n\u001b[1;32m     93\u001b[0m         \u001b[38;5;28mself\u001b[39m\u001b[38;5;241m.\u001b[39mcolision_borde()\n\u001b[1;32m     94\u001b[0m         \u001b[38;5;28mself\u001b[39m\u001b[38;5;241m.\u001b[39mcolision_comida()\n",
      "File \u001b[0;32m/usr/local/Cellar/python@3.13/3.13.0_1/Frameworks/Python.framework/Versions/3.13/lib/python3.13/turtle.py:1294\u001b[0m, in \u001b[0;36mTurtleScreen.update\u001b[0;34m(self)\u001b[0m\n\u001b[1;32m   1292\u001b[0m \u001b[38;5;28mself\u001b[39m\u001b[38;5;241m.\u001b[39m_tracing \u001b[38;5;241m=\u001b[39m \u001b[38;5;28;01mTrue\u001b[39;00m\n\u001b[1;32m   1293\u001b[0m \u001b[38;5;28;01mfor\u001b[39;00m t \u001b[38;5;129;01min\u001b[39;00m \u001b[38;5;28mself\u001b[39m\u001b[38;5;241m.\u001b[39mturtles():\n\u001b[0;32m-> 1294\u001b[0m     \u001b[43mt\u001b[49m\u001b[38;5;241;43m.\u001b[39;49m\u001b[43m_update_data\u001b[49m\u001b[43m(\u001b[49m\u001b[43m)\u001b[49m\n\u001b[1;32m   1295\u001b[0m     t\u001b[38;5;241m.\u001b[39m_drawturtle()\n\u001b[1;32m   1296\u001b[0m \u001b[38;5;28mself\u001b[39m\u001b[38;5;241m.\u001b[39m_tracing \u001b[38;5;241m=\u001b[39m tracing\n",
      "File \u001b[0;32m/usr/local/Cellar/python@3.13/3.13.0_1/Frameworks/Python.framework/Versions/3.13/lib/python3.13/turtle.py:2653\u001b[0m, in \u001b[0;36mRawTurtle._update_data\u001b[0;34m(self)\u001b[0m\n\u001b[1;32m   2652\u001b[0m \u001b[38;5;28;01mdef\u001b[39;00m \u001b[38;5;21m_update_data\u001b[39m(\u001b[38;5;28mself\u001b[39m):\n\u001b[0;32m-> 2653\u001b[0m     \u001b[38;5;28;43mself\u001b[39;49m\u001b[38;5;241;43m.\u001b[39;49m\u001b[43mscreen\u001b[49m\u001b[38;5;241;43m.\u001b[39;49m\u001b[43m_incrementudc\u001b[49m\u001b[43m(\u001b[49m\u001b[43m)\u001b[49m\n\u001b[1;32m   2654\u001b[0m     \u001b[38;5;28;01mif\u001b[39;00m \u001b[38;5;28mself\u001b[39m\u001b[38;5;241m.\u001b[39mscreen\u001b[38;5;241m.\u001b[39m_updatecounter \u001b[38;5;241m!=\u001b[39m \u001b[38;5;241m0\u001b[39m:\n\u001b[1;32m   2655\u001b[0m         \u001b[38;5;28;01mreturn\u001b[39;00m\n",
      "File \u001b[0;32m/usr/local/Cellar/python@3.13/3.13.0_1/Frameworks/Python.framework/Versions/3.13/lib/python3.13/turtle.py:1283\u001b[0m, in \u001b[0;36mTurtleScreen._incrementudc\u001b[0;34m(self)\u001b[0m\n\u001b[1;32m   1281\u001b[0m \u001b[38;5;28;01mif\u001b[39;00m \u001b[38;5;129;01mnot\u001b[39;00m TurtleScreen\u001b[38;5;241m.\u001b[39m_RUNNING:\n\u001b[1;32m   1282\u001b[0m     TurtleScreen\u001b[38;5;241m.\u001b[39m_RUNNING \u001b[38;5;241m=\u001b[39m \u001b[38;5;28;01mTrue\u001b[39;00m\n\u001b[0;32m-> 1283\u001b[0m     \u001b[38;5;28;01mraise\u001b[39;00m Terminator\n\u001b[1;32m   1284\u001b[0m \u001b[38;5;28;01mif\u001b[39;00m \u001b[38;5;28mself\u001b[39m\u001b[38;5;241m.\u001b[39m_tracing \u001b[38;5;241m>\u001b[39m \u001b[38;5;241m0\u001b[39m:\n\u001b[1;32m   1285\u001b[0m     \u001b[38;5;28mself\u001b[39m\u001b[38;5;241m.\u001b[39m_updatecounter \u001b[38;5;241m+\u001b[39m\u001b[38;5;241m=\u001b[39m \u001b[38;5;241m1\u001b[39m\n",
      "\u001b[0;31mTerminator\u001b[0m: "
     ]
    },
    {
     "ename": "",
     "evalue": "",
     "output_type": "error",
     "traceback": [
      "\u001b[1;31mThe Kernel crashed while executing code in the current cell or a previous cell. \n",
      "\u001b[1;31mPlease review the code in the cell(s) to identify a possible cause of the failure. \n",
      "\u001b[1;31mClick <a href='https://aka.ms/vscodeJupyterKernelCrash'>here</a> for more info. \n",
      "\u001b[1;31mView Jupyter <a href='command:jupyter.viewOutput'>log</a> for further details."
     ]
    }
   ],
   "source": [
    "snake_game.jugar()"
   ]
  },
  {
   "cell_type": "markdown",
   "metadata": {},
   "source": [
    "### 7. Implementa el aumento del tamaño de la serpiente"
   ]
  },
  {
   "cell_type": "markdown",
   "metadata": {},
   "source": [
    "La siguiente funcionalidad que debemos implementar es el aumento de puntuación y tamaño de la serpiente como cuando come la comida que hemos implementado anteriormente."
   ]
  },
  {
   "cell_type": "markdown",
   "metadata": {},
   "source": [
    "<div style=\"background-color:#D9EEFF;color:black;padding:2%;\">\n",
    "Implementa los métodos que consideres necesarios para aumentar la puntuación y el tamaño de la serpiente cuando come la comida implementada en el apartado anterior.\n",
    "</div>"
   ]
  },
  {
   "cell_type": "code",
   "execution_count": 1,
   "metadata": {},
   "outputs": [],
   "source": [
    "import turtle"
   ]
  },
  {
   "cell_type": "code",
   "execution_count": 2,
   "metadata": {},
   "outputs": [],
   "source": [
    "import time\n",
    "import random\n",
    "class SnakeGame:\n",
    "    def __init__(self,width = 600,height = 600, color = \"green\"):\n",
    "        \"\"\"Inicializar los componentes del juego\"\"\"\n",
    "        self._ancho = width\n",
    "        self._alto = height\n",
    "        #Inicializar pantalla\n",
    "        self.screen = turtle.Screen()\n",
    "        self.screen.title(\"JUEGO SNAKE\")\n",
    "        self.screen.bgcolor(color)\n",
    "        self.screen.setup(width=width ,height=height)\n",
    "        self.screen.tracer(0)\n",
    "        #Inicializa la serpiente\n",
    "        self.snake = turtle.Turtle()\n",
    "        self.snake.speed(0)\n",
    "        self.snake.shape(\"square\")\n",
    "        self.snake.color(\"black\")\n",
    "        self.snake.penup()\n",
    "        self.snake.goto(0,0)\n",
    "        #Inicializar el texto que se muestra en la pantalla\n",
    "        self.texto = turtle.Turtle()\n",
    "        self.texto.speed(0)\n",
    "        self.texto.shape(\"square\")\n",
    "        self.texto.color(\"white\")\n",
    "        self.texto.penup()\n",
    "        self.texto.hideturtle()\n",
    "        self.texto.goto(0,(height / 2) -40)\n",
    "        \n",
    "        #inicializacion de la comida de la serpiente\n",
    "        self.comida = turtle.Turtle()\n",
    "        self.comida.speed(0)\n",
    "        self.comida.shape('circle')\n",
    "        self.comida.color(\"red\")\n",
    "        self.comida.penup()\n",
    "        self.comida.goto(0,100)\n",
    "        #atributos de la class\n",
    "        self._direccion = None\n",
    "        self._delay = 0.1\n",
    "        self._score = 0\n",
    "        self._heigth_score = 0\n",
    "        self.snake_curpo = []\n",
    "\n",
    "\n",
    "        #Asociacion de los movimientos y las teclas\n",
    "        self.screen.listen()\n",
    "        self.screen.onkeypress(self.arriba, \"w\")\n",
    "        self.screen.onkeypress(self.abajo, \"s\")\n",
    "        self.screen.onkeypress(self.izquierda, \"a\")\n",
    "        self.screen.onkeypress(self.derecha, \"d\")\n",
    "        #print el texto por pantalla\n",
    "        self._print_score()\n",
    "\n",
    "\n",
    "    #methods de la class\n",
    "    def arriba(self):\n",
    "        \"\"\"Este metodo define el movimiento hacia arriba de la serpiente\"\"\"\n",
    "        if self._direccion != \"abajo\":\n",
    "            self._direccion = \"arriba\"\n",
    "        \n",
    "    def abajo(self):\n",
    "        if self._direccion != \"arriba\":\n",
    "            self._direccion = \"abajo\"\n",
    "\n",
    "    def izquierda(self):\n",
    "        if self._direccion != \"derecha\":\n",
    "            self._direccion = \"izquierda\"\n",
    "\n",
    "    def derecha(self):\n",
    "        if self._direccion != \"izquierda\":\n",
    "            self._direccion = \"derecha\"\n",
    "\n",
    "    def move(self):\n",
    "        \"\"\"se podria hacer una case?\"\"\"\n",
    "        #obtener las coordenadas de la cabeza de la serpiente\n",
    "        hx, hy = self.snake.xcor(), self.snake.ycor()\n",
    "\n",
    "        #movemos el cuerpo de la serpiente\n",
    "        for i in range(len(self.snake_curpo)-1,0,-1):\n",
    "            x = self.snake_curpo[i-1].xcor()\n",
    "            y = self.snake_curpo[i-1].ycor()\n",
    "            self.snake_curpo[i].goto(x,y)\n",
    "\n",
    "\n",
    "        #mover el segmento mas cercano ala cabeza\n",
    "        if len(self.snake_curpo ) > 0:\n",
    "            self.snake_curpo[0].goto(hx,hy)\n",
    "\n",
    "        \n",
    "        if self._direccion == \"arriba\":\n",
    "            self.snake.sety(hy + 20)\n",
    "\n",
    "        elif self._direccion == \"abajo\":\n",
    "            self.snake.sety(hy - 20)\n",
    "\n",
    "        elif self._direccion == \"izquierda\":\n",
    "            self.snake.setx(hx - 20)\n",
    "\n",
    "        elif self._direccion == \"derecha\":\n",
    "            self.snake.setx(hx + 20)\n",
    "\n",
    "    def jugar(self):\n",
    "        while True:\n",
    "            self.screen.update()\n",
    "            self.colision_borde()\n",
    "            self.colision_comida()\n",
    "            time.sleep(self._delay)\n",
    "            self.move()\n",
    "\n",
    "        self.screen.mainloop()\n",
    "\n",
    "    def colision_borde(self):\n",
    "        bxcor = (self._ancho // 2) - 10\n",
    "        bycor = (self._alto // 2) - 10\n",
    "        \n",
    "        if self.snake.xcor() > bxcor or self.snake.xcor() < -bxcor or self.snake.ycor() > bycor or self.snake.ycor() < -bycor:\n",
    "            time.sleep(1)\n",
    "            self.snake.goto(0,0)\n",
    "            self._direccion = None\n",
    "            self.texto.clear()\n",
    "            self._print_score()\n",
    "            #reiniciamos el cuerpo de la serpiente\n",
    "            for s in self.snake_curpo:\n",
    "                s.ht() #oculta el segmento\n",
    "            #limpia la lista de la snake\n",
    "            self.snake_curpo.clear()\n",
    "            #reiniciar el delete\n",
    "            self._delay = 0.1\n",
    "            #reiniciar el sore\n",
    "            if self._score > self._heigth_score:\n",
    "                self._heigth_score = self._score\n",
    "            self._score = 0\n",
    "            self._print_score()\n",
    "\n",
    "    def colision_comida(self):\n",
    "        if self.snake.distance(self.comida) < 20:\n",
    "            #mover la comida a un lugar aleatorio\n",
    "            bxcor = (self._ancho // 2) - 10\n",
    "            bycor = (self._alto // 2) - 10\n",
    "            x = random.randint(-bxcor, bxcor)\n",
    "            y = random.randint(-bycor,bycor)\n",
    "            self.comida.goto(x,y)\n",
    "            #incrementar curpo de la serpiente\n",
    "            self.incrementar_cuerpo()\n",
    "            #reducir el dalay\n",
    "            self._delay -= 0.001\n",
    "            #Aumentar el score\n",
    "            self._score += 10\n",
    "            self._print_score()\n",
    "\n",
    "    def incrementar_cuerpo(self):\n",
    "        segmento = turtle.Turtle()\n",
    "        segmento.speed(0)\n",
    "        segmento.shape('square')\n",
    "        segmento.color('grey')\n",
    "        segmento.penup()\n",
    "        self.snake_curpo.append(segmento)\n",
    "\n",
    "\n",
    "\n",
    "\n",
    "\n",
    "\n",
    "    def _print_score(self):\n",
    "        self.texto.clear()\n",
    "        self.texto.write(\"Points: {}  Record: {}\".format(self._score, self._heigth_score), align=\"center\",font=(\"courier\", 24, \"normal\"))"
   ]
  },
  {
   "cell_type": "code",
   "execution_count": 3,
   "metadata": {},
   "outputs": [],
   "source": [
    "snake_game = SnakeGame()"
   ]
  },
  {
   "cell_type": "code",
   "execution_count": 4,
   "metadata": {},
   "outputs": [
    {
     "ename": "Terminator",
     "evalue": "",
     "output_type": "error",
     "traceback": [
      "\u001b[0;31m---------------------------------------------------------------------------\u001b[0m",
      "\u001b[0;31mTerminator\u001b[0m                                Traceback (most recent call last)",
      "Cell \u001b[0;32mIn[4], line 1\u001b[0m\n\u001b[0;32m----> 1\u001b[0m \u001b[43msnake_game\u001b[49m\u001b[38;5;241;43m.\u001b[39;49m\u001b[43mjugar\u001b[49m\u001b[43m(\u001b[49m\u001b[43m)\u001b[49m\n",
      "Cell \u001b[0;32mIn[2], line 104\u001b[0m, in \u001b[0;36mSnakeGame.jugar\u001b[0;34m(self)\u001b[0m\n\u001b[1;32m    102\u001b[0m \u001b[38;5;28;01mdef\u001b[39;00m \u001b[38;5;21mjugar\u001b[39m(\u001b[38;5;28mself\u001b[39m):\n\u001b[1;32m    103\u001b[0m     \u001b[38;5;28;01mwhile\u001b[39;00m \u001b[38;5;28;01mTrue\u001b[39;00m:\n\u001b[0;32m--> 104\u001b[0m         \u001b[38;5;28;43mself\u001b[39;49m\u001b[38;5;241;43m.\u001b[39;49m\u001b[43mscreen\u001b[49m\u001b[38;5;241;43m.\u001b[39;49m\u001b[43mupdate\u001b[49m\u001b[43m(\u001b[49m\u001b[43m)\u001b[49m\n\u001b[1;32m    105\u001b[0m         \u001b[38;5;28mself\u001b[39m\u001b[38;5;241m.\u001b[39mcolision_borde()\n\u001b[1;32m    106\u001b[0m         \u001b[38;5;28mself\u001b[39m\u001b[38;5;241m.\u001b[39mcolision_comida()\n",
      "File \u001b[0;32m/usr/local/Cellar/python@3.13/3.13.0_1/Frameworks/Python.framework/Versions/3.13/lib/python3.13/turtle.py:1294\u001b[0m, in \u001b[0;36mTurtleScreen.update\u001b[0;34m(self)\u001b[0m\n\u001b[1;32m   1292\u001b[0m \u001b[38;5;28mself\u001b[39m\u001b[38;5;241m.\u001b[39m_tracing \u001b[38;5;241m=\u001b[39m \u001b[38;5;28;01mTrue\u001b[39;00m\n\u001b[1;32m   1293\u001b[0m \u001b[38;5;28;01mfor\u001b[39;00m t \u001b[38;5;129;01min\u001b[39;00m \u001b[38;5;28mself\u001b[39m\u001b[38;5;241m.\u001b[39mturtles():\n\u001b[0;32m-> 1294\u001b[0m     \u001b[43mt\u001b[49m\u001b[38;5;241;43m.\u001b[39;49m\u001b[43m_update_data\u001b[49m\u001b[43m(\u001b[49m\u001b[43m)\u001b[49m\n\u001b[1;32m   1295\u001b[0m     t\u001b[38;5;241m.\u001b[39m_drawturtle()\n\u001b[1;32m   1296\u001b[0m \u001b[38;5;28mself\u001b[39m\u001b[38;5;241m.\u001b[39m_tracing \u001b[38;5;241m=\u001b[39m tracing\n",
      "File \u001b[0;32m/usr/local/Cellar/python@3.13/3.13.0_1/Frameworks/Python.framework/Versions/3.13/lib/python3.13/turtle.py:2653\u001b[0m, in \u001b[0;36mRawTurtle._update_data\u001b[0;34m(self)\u001b[0m\n\u001b[1;32m   2652\u001b[0m \u001b[38;5;28;01mdef\u001b[39;00m \u001b[38;5;21m_update_data\u001b[39m(\u001b[38;5;28mself\u001b[39m):\n\u001b[0;32m-> 2653\u001b[0m     \u001b[38;5;28;43mself\u001b[39;49m\u001b[38;5;241;43m.\u001b[39;49m\u001b[43mscreen\u001b[49m\u001b[38;5;241;43m.\u001b[39;49m\u001b[43m_incrementudc\u001b[49m\u001b[43m(\u001b[49m\u001b[43m)\u001b[49m\n\u001b[1;32m   2654\u001b[0m     \u001b[38;5;28;01mif\u001b[39;00m \u001b[38;5;28mself\u001b[39m\u001b[38;5;241m.\u001b[39mscreen\u001b[38;5;241m.\u001b[39m_updatecounter \u001b[38;5;241m!=\u001b[39m \u001b[38;5;241m0\u001b[39m:\n\u001b[1;32m   2655\u001b[0m         \u001b[38;5;28;01mreturn\u001b[39;00m\n",
      "File \u001b[0;32m/usr/local/Cellar/python@3.13/3.13.0_1/Frameworks/Python.framework/Versions/3.13/lib/python3.13/turtle.py:1283\u001b[0m, in \u001b[0;36mTurtleScreen._incrementudc\u001b[0;34m(self)\u001b[0m\n\u001b[1;32m   1281\u001b[0m \u001b[38;5;28;01mif\u001b[39;00m \u001b[38;5;129;01mnot\u001b[39;00m TurtleScreen\u001b[38;5;241m.\u001b[39m_RUNNING:\n\u001b[1;32m   1282\u001b[0m     TurtleScreen\u001b[38;5;241m.\u001b[39m_RUNNING \u001b[38;5;241m=\u001b[39m \u001b[38;5;28;01mTrue\u001b[39;00m\n\u001b[0;32m-> 1283\u001b[0m     \u001b[38;5;28;01mraise\u001b[39;00m Terminator\n\u001b[1;32m   1284\u001b[0m \u001b[38;5;28;01mif\u001b[39;00m \u001b[38;5;28mself\u001b[39m\u001b[38;5;241m.\u001b[39m_tracing \u001b[38;5;241m>\u001b[39m \u001b[38;5;241m0\u001b[39m:\n\u001b[1;32m   1285\u001b[0m     \u001b[38;5;28mself\u001b[39m\u001b[38;5;241m.\u001b[39m_updatecounter \u001b[38;5;241m+\u001b[39m\u001b[38;5;241m=\u001b[39m \u001b[38;5;241m1\u001b[39m\n",
      "\u001b[0;31mTerminator\u001b[0m: "
     ]
    }
   ],
   "source": [
    "snake_game.jugar()"
   ]
  },
  {
   "cell_type": "markdown",
   "metadata": {},
   "source": [
    "### 8. Implementa las colisiones con el cuerpo de la serpiente"
   ]
  },
  {
   "cell_type": "markdown",
   "metadata": {},
   "source": [
    "¡Enhorabuena! Ya casi has completado la implementación de tu videojuego. Lo único que te queda por añadir son las colisiones con el propio cuerpo de la serpiente."
   ]
  },
  {
   "cell_type": "markdown",
   "metadata": {},
   "source": [
    "<div style=\"background-color:#D9EEFF;color:black;padding:2%;\">\n",
    "Implementa los métodos que consideres necesarios para introducir colisiones con el propio cuerpo de la serpiente.\n",
    "</div>"
   ]
  },
  {
   "cell_type": "code",
   "execution_count": 1,
   "metadata": {},
   "outputs": [],
   "source": [
    "import turtle"
   ]
  },
  {
   "cell_type": "code",
   "execution_count": 2,
   "metadata": {},
   "outputs": [],
   "source": [
    "import time\n",
    "import random\n",
    "class SnakeGame:\n",
    "    def __init__(self,width = 600,height = 600, color = \"green\"):\n",
    "        \"\"\"Inicializar los componentes del juego\"\"\"\n",
    "        self._ancho = width\n",
    "        self._alto = height\n",
    "        #Inicializar pantalla\n",
    "        self.screen = turtle.Screen()\n",
    "        self.screen.title(\"JUEGO SNAKE\")\n",
    "        self.screen.bgcolor(color)\n",
    "        self.screen.setup(width=width ,height=height)\n",
    "        self.screen.tracer(0)\n",
    "        #Inicializa la serpiente\n",
    "        self.snake = turtle.Turtle()\n",
    "        self.snake.speed(0)\n",
    "        self.snake.shape(\"square\")\n",
    "        self.snake.color(\"black\")\n",
    "        self.snake.penup()\n",
    "        self.snake.goto(0,0)\n",
    "        #Inicializar el texto que se muestra en la pantalla\n",
    "        self.texto = turtle.Turtle()\n",
    "        self.texto.speed(0)\n",
    "        self.texto.shape(\"square\")\n",
    "        self.texto.color(\"white\")\n",
    "        self.texto.penup()\n",
    "        self.texto.hideturtle()\n",
    "        self.texto.goto(0,(height / 2) -40)\n",
    "        \n",
    "        #inicializacion de la comida de la serpiente\n",
    "        self.comida = turtle.Turtle()\n",
    "        self.comida.speed(0)\n",
    "        self.comida.shape('circle')\n",
    "        self.comida.color(\"red\")\n",
    "        self.comida.penup()\n",
    "        self.comida.goto(0,100)\n",
    "        #atributos de la class\n",
    "        self._direccion = None\n",
    "        self._delay = 0.1\n",
    "        self._score = 0\n",
    "        self._heigth_score = 0\n",
    "        self.snake_cuerpo = []\n",
    "\n",
    "\n",
    "        #Asociacion de los movimientos y las teclas\n",
    "        self.screen.listen()\n",
    "        self.screen.onkeypress(self.arriba, \"w\")\n",
    "        self.screen.onkeypress(self.abajo, \"s\")\n",
    "        self.screen.onkeypress(self.izquierda, \"a\")\n",
    "        self.screen.onkeypress(self.derecha, \"d\")\n",
    "        #print el texto por pantalla\n",
    "        self._print_score()\n",
    "\n",
    "\n",
    "    #methods de la class\n",
    "    def arriba(self):\n",
    "        \"\"\"Este metodo define el movimiento hacia arriba de la serpiente\"\"\"\n",
    "        if self._direccion != \"abajo\":\n",
    "            self._direccion = \"arriba\"\n",
    "        \n",
    "    def abajo(self):\n",
    "        if self._direccion != \"arriba\":\n",
    "            self._direccion = \"abajo\"\n",
    "\n",
    "    def izquierda(self):\n",
    "        if self._direccion != \"derecha\":\n",
    "            self._direccion = \"izquierda\"\n",
    "\n",
    "    def derecha(self):\n",
    "        if self._direccion != \"izquierda\":\n",
    "            self._direccion = \"derecha\"\n",
    "\n",
    "    def move(self):\n",
    "        \"\"\"se podria hacer una case?\"\"\"\n",
    "        #obtener las coordenadas de la cabeza de la serpiente\n",
    "        hx, hy = self.snake.xcor(), self.snake.ycor()\n",
    "\n",
    "        #movemos el cuerpo de la serpiente\n",
    "        for i in range(len(self.snake_cuerpo)-1,0,-1):\n",
    "            x = self.snake_cuerpo[i-1].xcor()\n",
    "            y = self.snake_cuerpo[i-1].ycor()\n",
    "            self.snake_cuerpo[i].goto(x,y)\n",
    "\n",
    "\n",
    "        #mover el segmento mas cercano ala cabeza\n",
    "        if len(self.snake_cuerpo ) > 0:\n",
    "            self.snake_cuerpo[0].goto(hx,hy)\n",
    "\n",
    "        \n",
    "        if self._direccion == \"arriba\":\n",
    "            self.snake.sety(hy + 20)\n",
    "\n",
    "        elif self._direccion == \"abajo\":\n",
    "            self.snake.sety(hy - 20)\n",
    "\n",
    "        elif self._direccion == \"izquierda\":\n",
    "            self.snake.setx(hx - 20)\n",
    "\n",
    "        elif self._direccion == \"derecha\":\n",
    "            self.snake.setx(hx + 20)\n",
    "\n",
    "    def jugar(self):\n",
    "        while True:\n",
    "            self.screen.update()\n",
    "            self.colision_borde()\n",
    "            self.colision_comida()\n",
    "            self.colision_cuerpo()\n",
    "            time.sleep(self._delay)\n",
    "            self.move()\n",
    "\n",
    "        self.screen.mainloop()\n",
    "\n",
    "    def colision_borde(self):\n",
    "        bxcor = (self._ancho // 2) - 10\n",
    "        bycor = (self._alto // 2) - 10\n",
    "        \n",
    "        if self.snake.xcor() > bxcor or self.snake.xcor() < -bxcor or self.snake.ycor() > bycor or self.snake.ycor() < -bycor:\n",
    "            self._reset()\n",
    "    \n",
    "    def colision_cuerpo(self):\n",
    "        for s in self.snake_cuerpo:\n",
    "            if s.distance(self.snake) < 20:\n",
    "                self._reset()\n",
    "\n",
    "\n",
    "\n",
    "\n",
    "\n",
    "    def colision_comida(self):\n",
    "        if self.snake.distance(self.comida) < 20:\n",
    "            #mover la comida a un lugar aleatorio\n",
    "            bxcor = (self._ancho // 2) - 10\n",
    "            bycor = (self._alto // 2) - 10\n",
    "            x = random.randint(-bxcor, bxcor)\n",
    "            y = random.randint(-bycor,bycor)\n",
    "            self.comida.goto(x,y)\n",
    "            #incrementar curpo de la serpiente\n",
    "            self.incrementar_cuerpo()\n",
    "            #reducir el dalay\n",
    "            self._delay -= 0.001\n",
    "            #Aumentar el score\n",
    "            self._score += 10\n",
    "            self._print_score()\n",
    "\n",
    "    def incrementar_cuerpo(self):\n",
    "        segmento = turtle.Turtle()\n",
    "        segmento.speed(0)\n",
    "        segmento.shape('square')\n",
    "        segmento.color('grey')\n",
    "        segmento.penup()\n",
    "        self.snake_cuerpo.append(segmento)\n",
    "\n",
    "\n",
    "\n",
    "\n",
    "\n",
    "\n",
    "    def _print_score(self):\n",
    "        self.texto.clear()\n",
    "        self.texto.write(\"Points: {}  Record: {}\".format(self._score, self._heigth_score), align=\"center\",font=(\"courier\", 24, \"normal\"))\n",
    "\n",
    "    def _reset(self):\n",
    "        time.sleep(1)\n",
    "        self.snake.goto(0,0)\n",
    "        self._direccion = None\n",
    "        self.texto.clear()\n",
    "        self._print_score()\n",
    "        #reiniciamos el cuerpo de la serpiente\n",
    "        for s in self.snake_cuerpo:\n",
    "            s.ht() #oculta el segmento\n",
    "        #limpia la lista de la snake\n",
    "        self.snake_cuerpo.clear()\n",
    "        #reiniciar el delete\n",
    "        self._delay = 0.1\n",
    "        #reiniciar el sore\n",
    "        if self._score > self._heigth_score:\n",
    "            self._heigth_score = self._score\n",
    "        self._score = 0\n",
    "        self._print_score()"
   ]
  },
  {
   "cell_type": "code",
   "execution_count": 3,
   "metadata": {},
   "outputs": [],
   "source": [
    "snake_game = SnakeGame()"
   ]
  },
  {
   "cell_type": "code",
   "execution_count": 4,
   "metadata": {},
   "outputs": [
    {
     "ename": "AttributeError",
     "evalue": "'SnakeGame' object has no attribute 'snake_curpo'",
     "output_type": "error",
     "traceback": [
      "\u001b[0;31m---------------------------------------------------------------------------\u001b[0m",
      "\u001b[0;31mAttributeError\u001b[0m                            Traceback (most recent call last)",
      "Cell \u001b[0;32mIn[4], line 1\u001b[0m\n\u001b[0;32m----> 1\u001b[0m \u001b[43msnake_game\u001b[49m\u001b[38;5;241;43m.\u001b[39;49m\u001b[43mjugar\u001b[49m\u001b[43m(\u001b[49m\u001b[43m)\u001b[49m\n",
      "Cell \u001b[0;32mIn[2], line 105\u001b[0m, in \u001b[0;36mSnakeGame.jugar\u001b[0;34m(self)\u001b[0m\n\u001b[1;32m    103\u001b[0m \u001b[38;5;28;01mwhile\u001b[39;00m \u001b[38;5;28;01mTrue\u001b[39;00m:\n\u001b[1;32m    104\u001b[0m     \u001b[38;5;28mself\u001b[39m\u001b[38;5;241m.\u001b[39mscreen\u001b[38;5;241m.\u001b[39mupdate()\n\u001b[0;32m--> 105\u001b[0m     \u001b[38;5;28;43mself\u001b[39;49m\u001b[38;5;241;43m.\u001b[39;49m\u001b[43mcolision_borde\u001b[49m\u001b[43m(\u001b[49m\u001b[43m)\u001b[49m\n\u001b[1;32m    106\u001b[0m     \u001b[38;5;28mself\u001b[39m\u001b[38;5;241m.\u001b[39mcolision_comida()\n\u001b[1;32m    107\u001b[0m     \u001b[38;5;28mself\u001b[39m\u001b[38;5;241m.\u001b[39mcolision_cuerpo()\n",
      "Cell \u001b[0;32mIn[2], line 118\u001b[0m, in \u001b[0;36mSnakeGame.colision_borde\u001b[0;34m(self)\u001b[0m\n\u001b[1;32m    115\u001b[0m bycor \u001b[38;5;241m=\u001b[39m (\u001b[38;5;28mself\u001b[39m\u001b[38;5;241m.\u001b[39m_alto \u001b[38;5;241m/\u001b[39m\u001b[38;5;241m/\u001b[39m \u001b[38;5;241m2\u001b[39m) \u001b[38;5;241m-\u001b[39m \u001b[38;5;241m10\u001b[39m\n\u001b[1;32m    117\u001b[0m \u001b[38;5;28;01mif\u001b[39;00m \u001b[38;5;28mself\u001b[39m\u001b[38;5;241m.\u001b[39msnake\u001b[38;5;241m.\u001b[39mxcor() \u001b[38;5;241m>\u001b[39m bxcor \u001b[38;5;129;01mor\u001b[39;00m \u001b[38;5;28mself\u001b[39m\u001b[38;5;241m.\u001b[39msnake\u001b[38;5;241m.\u001b[39mxcor() \u001b[38;5;241m<\u001b[39m \u001b[38;5;241m-\u001b[39mbxcor \u001b[38;5;129;01mor\u001b[39;00m \u001b[38;5;28mself\u001b[39m\u001b[38;5;241m.\u001b[39msnake\u001b[38;5;241m.\u001b[39mycor() \u001b[38;5;241m>\u001b[39m bycor \u001b[38;5;129;01mor\u001b[39;00m \u001b[38;5;28mself\u001b[39m\u001b[38;5;241m.\u001b[39msnake\u001b[38;5;241m.\u001b[39mycor() \u001b[38;5;241m<\u001b[39m \u001b[38;5;241m-\u001b[39mbycor:\n\u001b[0;32m--> 118\u001b[0m     \u001b[38;5;28;43mself\u001b[39;49m\u001b[38;5;241;43m.\u001b[39;49m\u001b[43m_reset\u001b[49m\u001b[43m(\u001b[49m\u001b[43m)\u001b[49m\n",
      "Cell \u001b[0;32mIn[2], line 172\u001b[0m, in \u001b[0;36mSnakeGame._reset\u001b[0;34m(self)\u001b[0m\n\u001b[1;32m    170\u001b[0m     s\u001b[38;5;241m.\u001b[39mht() \u001b[38;5;66;03m#oculta el segmento\u001b[39;00m\n\u001b[1;32m    171\u001b[0m \u001b[38;5;66;03m#limpia la lista de la snake\u001b[39;00m\n\u001b[0;32m--> 172\u001b[0m \u001b[38;5;28;43mself\u001b[39;49m\u001b[38;5;241;43m.\u001b[39;49m\u001b[43msnake_curpo\u001b[49m\u001b[38;5;241m.\u001b[39mclear()\n\u001b[1;32m    173\u001b[0m \u001b[38;5;66;03m#reiniciar el delete\u001b[39;00m\n\u001b[1;32m    174\u001b[0m \u001b[38;5;28mself\u001b[39m\u001b[38;5;241m.\u001b[39m_delay \u001b[38;5;241m=\u001b[39m \u001b[38;5;241m0.1\u001b[39m\n",
      "\u001b[0;31mAttributeError\u001b[0m: 'SnakeGame' object has no attribute 'snake_curpo'"
     ]
    },
    {
     "ename": "",
     "evalue": "",
     "output_type": "error",
     "traceback": [
      "\u001b[1;31mThe Kernel crashed while executing code in the current cell or a previous cell. \n",
      "\u001b[1;31mPlease review the code in the cell(s) to identify a possible cause of the failure. \n",
      "\u001b[1;31mClick <a href='https://aka.ms/vscodeJupyterKernelCrash'>here</a> for more info. \n",
      "\u001b[1;31mView Jupyter <a href='command:jupyter.viewOutput'>log</a> for further details."
     ]
    }
   ],
   "source": [
    "snake_game.jugar()"
   ]
  },
  {
   "cell_type": "markdown",
   "metadata": {},
   "source": [
    "### 9. Ejecuta el ejercicio en Pycharm"
   ]
  },
  {
   "cell_type": "code",
   "execution_count": null,
   "metadata": {},
   "outputs": [],
   "source": []
  }
 ],
 "metadata": {
  "kernelspec": {
   "display_name": "venv",
   "language": "python",
   "name": "python3"
  },
  "language_info": {
   "codemirror_mode": {
    "name": "ipython",
    "version": 3
   },
   "file_extension": ".py",
   "mimetype": "text/x-python",
   "name": "python",
   "nbconvert_exporter": "python",
   "pygments_lexer": "ipython3",
   "version": "3.13.0"
  }
 },
 "nbformat": 4,
 "nbformat_minor": 4
}
