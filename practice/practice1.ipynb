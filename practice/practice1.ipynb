{
 "cells": [
  {
   "cell_type": "markdown",
   "metadata": {},
   "source": [
    "<!-- exeptio of error  -->"
   ]
  },
  {
   "cell_type": "code",
   "execution_count": 1,
   "metadata": {},
   "outputs": [],
   "source": [
    "try:\n",
    "    print(var)\n",
    "except NameError:\n",
    "    var = \"hello would\""
   ]
  },
  {
   "cell_type": "code",
   "execution_count": 2,
   "metadata": {},
   "outputs": [
    {
     "name": "stdout",
     "output_type": "stream",
     "text": [
      "hello would\n"
     ]
    }
   ],
   "source": [
    "print(var)"
   ]
  },
  {
   "cell_type": "markdown",
   "metadata": {},
   "source": []
  },
  {
   "cell_type": "code",
   "execution_count": 3,
   "metadata": {},
   "outputs": [
    {
     "name": "stdout",
     "output_type": "stream",
     "text": [
      "no puedes dividir un numero por 0\n"
     ]
    }
   ],
   "source": [
    "try:\n",
    "    50/0\n",
    "except NameError:\n",
    "    print(\"Gestionando excepciones nameerror\")\n",
    "except TypeError:\n",
    "    print(\"gestion execpcion ty error\")\n",
    "except ZeroDivisionError:\n",
    "    print(\"no puedes dividir un numero por 0\")"
   ]
  },
  {
   "cell_type": "code",
   "execution_count": 4,
   "metadata": {},
   "outputs": [
    {
     "name": "stdout",
     "output_type": "stream",
     "text": [
      "objeto de tipo: <class 'NameError'>\n",
      "la execpcion consiste en: name 'variable' is not defined\n"
     ]
    }
   ],
   "source": [
    "try:\n",
    "    print(variable)\n",
    "except NameError as error:\n",
    "    print(\"objeto de tipo:\",type(error))\n",
    "    print(\"la execpcion consiste en:\", error)"
   ]
  },
  {
   "cell_type": "code",
   "execution_count": 5,
   "metadata": {},
   "outputs": [
    {
     "name": "stdout",
     "output_type": "stream",
     "text": [
      "Help on class NameError in module builtins:\n",
      "\n",
      "class NameError(Exception)\n",
      " |  Name not found globally.\n",
      " |\n",
      " |  Method resolution order:\n",
      " |      NameError\n",
      " |      Exception\n",
      " |      BaseException\n",
      " |      object\n",
      " |\n",
      " |  Built-in subclasses:\n",
      " |      UnboundLocalError\n",
      " |\n",
      " |  Methods defined here:\n",
      " |\n",
      " |  __init__(self, /, *args, **kwargs)\n",
      " |      Initialize self.  See help(type(self)) for accurate signature.\n",
      " |\n",
      " |  __str__(self, /)\n",
      " |      Return str(self).\n",
      " |\n",
      " |  ----------------------------------------------------------------------\n",
      " |  Data descriptors defined here:\n",
      " |\n",
      " |  name\n",
      " |      name\n",
      " |\n",
      " |  ----------------------------------------------------------------------\n",
      " |  Static methods inherited from Exception:\n",
      " |\n",
      " |  __new__(*args, **kwargs) class method of builtins.Exception\n",
      " |      Create and return a new object.  See help(type) for accurate signature.\n",
      " |\n",
      " |  ----------------------------------------------------------------------\n",
      " |  Methods inherited from BaseException:\n",
      " |\n",
      " |  __getattribute__(self, name, /)\n",
      " |      Return getattr(self, name).\n",
      " |\n",
      " |  __reduce__(...)\n",
      " |      Helper for pickle.\n",
      " |\n",
      " |  __repr__(self, /)\n",
      " |      Return repr(self).\n",
      " |\n",
      " |  __setstate__(...)\n",
      " |\n",
      " |  add_note(...)\n",
      " |      Exception.add_note(note) --\n",
      " |      add a note to the exception\n",
      " |\n",
      " |  with_traceback(...)\n",
      " |      Exception.with_traceback(tb) --\n",
      " |      set self.__traceback__ to tb and return self.\n",
      " |\n",
      " |  ----------------------------------------------------------------------\n",
      " |  Data descriptors inherited from BaseException:\n",
      " |\n",
      " |  __cause__\n",
      " |      exception cause\n",
      " |\n",
      " |  __context__\n",
      " |      exception context\n",
      " |\n",
      " |  __dict__\n",
      " |\n",
      " |  __suppress_context__\n",
      " |\n",
      " |  __traceback__\n",
      " |\n",
      " |  args\n",
      "\n"
     ]
    }
   ],
   "source": [
    "#excepciones personalizadas\n",
    "help(NameError)"
   ]
  },
  {
   "cell_type": "code",
   "execution_count": 6,
   "metadata": {},
   "outputs": [],
   "source": [
    "colores_permitidos = (\"blue\",\"green\",\"red\")\n",
    "color = \"green\"\n",
    "\n",
    "if color not in colores_permitidos:\n",
    "    raise Exception(\"El color {} no se encuentra en la lista de colores permitidos\".format(color))"
   ]
  },
  {
   "cell_type": "markdown",
   "metadata": {},
   "source": [
    "Práctica Excepciones personalizadas\n",
    "Objetivo\n",
    "\n",
    "Crea un programa en Python que simule un sistema de pedido de alimentos en línea. Este sistema deberá permitir a los usuarios seleccionar alimentos de un menú y manejar adecuadamente las excepciones para entradas no válidas y otras posibles situaciones de error.\n",
    "\n",
    "\n",
    "\n",
    "Instrucciones\n",
    "\n",
    "Crea un diccionario menu que represente un menú de alimentos con precios. El menú se compone de:\n",
    "\n",
    "Pizza Margarita : 8.99\n",
    "\n",
    "Hamburguesa Clásica: 5.99\n",
    "\n",
    "Ensalada César: 7.5\n",
    "\n",
    "Agua Mineral: 1.5\n",
    "\n",
    "Defina una función realizar_pedido que tome como argumento: alimento_seleccionado (un string con el alimento) y dinero (la cantidad de fondos de los que dispone el usuario).\n",
    "\n",
    "Imprime el menú de alimentos. Para poder imprimir cada alimento puedes utilizar un bucle for que recorra el diccionario (Pista: método .items()).\n",
    "\n",
    "Define un sistema de excepciones personalizadas:\n",
    "\n",
    "Si el alimento_seleccionado no está en el menú, asignar a ValueError la frase: \"El alimento seleccionado no está en el menú\".\n",
    "\n",
    "Si el precio del alimento_seleccionado es superior a la cantidad de dinero, asignar a ValueError la frase: \"No se disponen de suficientes fondos para realizar el pedido\".\n",
    "\n",
    "Si todo es correcto, guarda en la variable coste_total el precio del alimento_seleccionado según el menú e imprime la siguiente frase: \"Pedido realizado con éxito. Alimento seleccionado: {alimento_seleccionado}, Total a pagar: ${coste_total}\"\n",
    "\n",
    "Define la sentencia except de la excepción imprimiendo la frase: \"Error en el pedido: ValueError (asignado en las sentencias anteriores)\"\n",
    "\n",
    "Ejecución del programa: Llama a la función realizar_pedido con diferentes argumentos para probar las excepciones:\n",
    "\n",
    "alimento_seleccionado = Pizza Margarita, dinero = 10\n",
    "\n",
    "alimento_seleccionado = Pizza Margarita, dinero = 2\n",
    "\n",
    "alimento_seleccionado = Sandwich mixto, dinero = 10\n",
    "\n",
    "\n",
    "\n",
    "Resultado esperado\n",
    "\n",
    "Menú de Alimentos:\n",
    "\n",
    "Pizza Margarita: $8.99\n",
    "\n",
    "Hamburguesa Clásica: $5.99\n",
    "\n",
    "Ensalada César: $7.5\n",
    "\n",
    "Agua Mineral: $1.5\n",
    "\n",
    "Pedido realizado con éxito. Alimento seleccionado: Pizza Margarita, Total a pagar: $8.99\n",
    "\n",
    "Menú de Alimentos:\n",
    "\n",
    "Pizza Margarita: $8.99\n",
    "\n",
    "Hamburguesa Clásica: $5.99\n",
    "\n",
    "Ensalada César: $7.5\n",
    "\n",
    "Agua Mineral: $1.5\n",
    "\n",
    "Error en el pedido: No se disponen de suficientes fondos para realizar el pedido\n",
    "\n",
    "Menú de Alimentos:\n",
    "\n",
    "Pizza Margarita: $8.99\n",
    "\n",
    "Hamburguesa Clásica: $5.99\n",
    "\n",
    "Ensalada César: $7.5\n",
    "\n",
    "Agua Mineral: $1.5\n",
    "\n",
    "Error en el pedido: El alimento seleccionado no está en el menú."
   ]
  },
  {
   "cell_type": "code",
   "execution_count": 7,
   "metadata": {},
   "outputs": [
    {
     "name": "stdout",
     "output_type": "stream",
     "text": [
      "Menú de Alimentos:\n",
      "Pizza Margarita: $8.99\n",
      "Hamburguesa Clásica: $5.99\n",
      "Ensalada César: $7.5\n",
      "Agua Mineral: $1.5\n",
      "\n",
      "Pedido realizado con éxito. Alimento seleccionado: Pizza Margarita, Total a pagar: $8.99 \n",
      "\n",
      "Menú de Alimentos:\n",
      "Pizza Margarita: $8.99\n",
      "Hamburguesa Clásica: $5.99\n",
      "Ensalada César: $7.5\n",
      "Agua Mineral: $1.5\n",
      "\n",
      "Error en el pedido: No se disponen de suficientes fondos para realizar el pedido \n",
      "\n",
      "Menú de Alimentos:\n",
      "Pizza Margarita: $8.99\n",
      "Hamburguesa Clásica: $5.99\n",
      "Ensalada César: $7.5\n",
      "Agua Mineral: $1.5\n",
      "\n",
      "Error en el pedido: El alimento seleccionado no está en el menú.\n",
      "\n"
     ]
    }
   ],
   "source": [
    "menu = {\n",
    "    \"Pizza Margarita\": 8.99,\n",
    "    \"Hamburguesa Clásica\": 5.99,\n",
    "    \"Ensalada César\": 7.5,\n",
    "    \"Agua Mineral\": 1.5\n",
    "}\n",
    " \n",
    "def realizar_pedido(alimento_seleccionado, dinero):\n",
    "    \"\"\"\n",
    "    Imprime el menú de alimentos disponibles, realiza un pedido basado en el alimento seleccionado y el dinero proporcionado.\n",
    " \n",
    "    Args:\n",
    "        alimento_seleccionado (str): El nombre del alimento que se desea ordenar.\n",
    "        dinero (float): La cantidad de dinero disponible para pagar el alimento.\n",
    " \n",
    "    Raises:\n",
    "        ValueError: Si el alimento seleccionado no está en el menú.\n",
    "        ValueError: Si el dinero proporcionado no es suficiente para cubrir el coste del alimento seleccionado.\n",
    "    \"\"\"\n",
    "    print(\"Menú de Alimentos:\")\n",
    "    for alimento, precio in menu.items():\n",
    "        print(f\"{alimento}: ${precio}\")\n",
    "    \n",
    "    try:\n",
    "        if alimento_seleccionado not in menu:\n",
    "            raise ValueError(\"El alimento seleccionado no está en el menú.\\n\")\n",
    "        \n",
    "        if menu[alimento_seleccionado] > dinero:\n",
    "            raise ValueError(\"No se disponen de suficientes fondos para realizar el pedido \\n\")\n",
    " \n",
    "        coste_total = menu[alimento_seleccionado]\n",
    "        print(f\"\\nPedido realizado con éxito. Alimento seleccionado: {alimento_seleccionado}, Total a pagar: ${coste_total:.2f} \\n\")\n",
    "    \n",
    "    except ValueError as e:\n",
    "        print(f\"\\nError en el pedido: {e}\")\n",
    " \n",
    " \n",
    "alimento_1 = \"Pizza Margarita\"\n",
    "dinero_1 = 10\n",
    "realizar_pedido(alimento_1, dinero_1)\n",
    " \n",
    "alimento_2 = \"Pizza Margarita\"\n",
    "dinero_2 = 2\n",
    "realizar_pedido(alimento_2, dinero_2)\n",
    " \n",
    "alimento_3 = \"Sandwich mixto\"\n",
    "dinero_3 = 10\n",
    "realizar_pedido(alimento_3, dinero_3)"
   ]
  },
  {
   "cell_type": "code",
   "execution_count": 10,
   "metadata": {},
   "outputs": [],
   "source": [
    "# exception AssertionError\n",
    "password2 = input(\"introduce una password de mas de 8 digitos:\")\n",
    "assert len(password2) > 8, \"la password en menor a 8 digitos\""
   ]
  },
  {
   "cell_type": "markdown",
   "metadata": {},
   "source": [
    "clausula else en exepciones, no es muy recomendable usar solo es para casos especificos"
   ]
  },
  {
   "cell_type": "code",
   "execution_count": 14,
   "metadata": {},
   "outputs": [
    {
     "name": "stdout",
     "output_type": "stream",
     "text": [
      "hello would\n",
      "variable2 ya esta definida con el valor>  hello would\n"
     ]
    }
   ],
   "source": [
    "try:\n",
    "    print(variable2)\n",
    "except NameError:\n",
    "    print(\"variable2 no definida no estaba definida, se define con la cade 'hola mundo' \")\n",
    "    variable2 = 'hello would'\n",
    "else:\n",
    "    print(\"variable2 ya esta definida con el valor > \", variable2)"
   ]
  },
  {
   "cell_type": "markdown",
   "metadata": {},
   "source": [
    "sentcia finally en exception en python, la clausura se executa sio o si sin importar la excepcion"
   ]
  },
  {
   "cell_type": "code",
   "execution_count": 20,
   "metadata": {},
   "outputs": [
    {
     "name": "stdout",
     "output_type": "stream",
     "text": [
      "variable3 no definida no estaba definida, se define con la cade 'hola mundo' \n"
     ]
    }
   ],
   "source": [
    "try:\n",
    "    print(variable3)\n",
    "except NameError:\n",
    "    print(\"variable3 no definida no estaba definida, se define con la cade 'hola mundo' \")\n",
    "    variable3 = 'hello would'\n",
    "else:\n",
    "    print(\"variable3 ya esta definida con el valor > \", variable3)\n",
    "finally:\n",
    "    del variable3"
   ]
  }
 ],
 "metadata": {
  "kernelspec": {
   "display_name": "Python 3",
   "language": "python",
   "name": "python3"
  },
  "language_info": {
   "codemirror_mode": {
    "name": "ipython",
    "version": 3
   },
   "file_extension": ".py",
   "mimetype": "text/x-python",
   "name": "python",
   "nbconvert_exporter": "python",
   "pygments_lexer": "ipython3",
   "version": "3.12.7"
  }
 },
 "nbformat": 4,
 "nbformat_minor": 2
}
