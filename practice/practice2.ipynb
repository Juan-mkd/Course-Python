{
 "cells": [
  {
   "cell_type": "markdown",
   "metadata": {},
   "source": [
    "Práctica AssertionError, else, finally\n",
    "Objetivo\n",
    "\n",
    "Desarrolla un programa en Python que simule la validación de inscripciones de participantes en un torneo de videojuegos en línea. El sistema debe asegurarse de que cada inscripción cumpla con los requisitos mínimos mediante el uso de excepciones en Python.\n",
    "\n",
    "\n",
    "\n",
    "Instrucciones\n",
    "\n",
    "Define una función validar_inscripcion que tome como argumentos edad (edad del participante) y nivel_experiencia (nivel del participante).\n",
    "\n",
    "Utiliza la sentencia try, definiendo en ella dos excepciones AssertionError para verificar que la edad del participante es superior o igual a los 18 años y que cuenta con al menos un nivel 5 de experiencia. Imprime los mensajes: \"Debe tener al menos 18 años para inscribirse.\" y \"Necesita un nivel de experiencia mínimo de 5 para inscribirse.\" si no es así.\n",
    "\n",
    "Define la sentencia except almacenando los errores de las excepciones anteriores con la sentencia AssertionError as e para imprimirlas junto con el mensaje: Error en la inscripción: Debe tener al menos 18 años para inscribirse. o Error en la inscripción: Necesita un nivel de experiencia mínimo de 5 para inscribirse.\n",
    "\n",
    "Utiliza la sentencia else en la excepción para imprimir por pantalla un mensaje en caso de que se cumplan todos los requisitos: Inscripción realizada con éxito. ¡Bienvenido al torneo!\n",
    "\n",
    "Utiliza la sentencia finally para imprimir un mensaje por pantalla indicando la finalización del proceso: Proceso de inscripción finalizado.\n",
    "\n",
    "Llama a la función validar_inscripcion en dos ocasiones para comprobar su funcionamiento. Una con una edad de 20 años y nivel 6 de experiencia y otra con una edad de 16 años y nivel 10 de experiencia.\n",
    "\n",
    "\n",
    "\n",
    "Resultado esperado\n",
    "\n",
    "Inscripción realizada con éxito. ¡Bienvenido al torneo!\n",
    "\n",
    "Proceso de inscripción finalizado.\n",
    "\n",
    "Error en la inscripción: Debe tener al menos 18 años para inscribirse.\n",
    "\n",
    "Proceso de inscripción finalizado."
   ]
  },
  {
   "cell_type": "code",
   "execution_count": 3,
   "metadata": {},
   "outputs": [
    {
     "name": "stdout",
     "output_type": "stream",
     "text": [
      "Error en la inscripción: Debe tener al menos 18 años para inscribirse.\n",
      "Proceso de inscripción finalizado.\n",
      "\n",
      "\n",
      "Error en la inscripción: Necesita un nivel de experiencia mínimo de 5 para inscribirse.\n",
      "Proceso de inscripción finalizado.\n"
     ]
    }
   ],
   "source": [
    "def validar_inscripcion(edad, nivel_experiencia):\n",
    "    try:\n",
    "        # Verificar que la edad sea al menos 18\n",
    "        if edad < 18:\n",
    "            raise AssertionError(\"Debe tener al menos 18 años para inscribirse.\")\n",
    "        \n",
    "        # Verificar que el nivel de experiencia sea al menos 5\n",
    "        if nivel_experiencia < 5:\n",
    "            raise AssertionError(\"Necesita un nivel de experiencia mínimo de 5 para inscribirse.\")\n",
    "    \n",
    "    except AssertionError as e:\n",
    "        # Manejo de excepciones, imprimiendo el mensaje correspondiente\n",
    "        print(f\"Error en la inscripción: {e}\")\n",
    "    \n",
    "    else:\n",
    "        # Si no se lanzaron excepciones, la inscripción fue exitosa\n",
    "        print(\"Inscripción realizada con éxito. ¡Bienvenido al torneo!\")\n",
    "    \n",
    "    finally:\n",
    "        # Mensaje de finalización del proceso\n",
    "        print(\"Proceso de inscripción finalizado.\")\n",
    "\n",
    "# Llamadas a la función para comprobar su funcionamiento\n",
    "validar_inscripcion(20, 6)  # Inscripción válida\n",
    "\n",
    "validar_inscripcion(16, 10)  # Inscripción no válida\n"
   ]
  }
 ],
 "metadata": {
  "kernelspec": {
   "display_name": "Python 3",
   "language": "python",
   "name": "python3"
  },
  "language_info": {
   "codemirror_mode": {
    "name": "ipython",
    "version": 3
   },
   "file_extension": ".py",
   "mimetype": "text/x-python",
   "name": "python",
   "nbconvert_exporter": "python",
   "pygments_lexer": "ipython3",
   "version": "3.12.7"
  }
 },
 "nbformat": 4,
 "nbformat_minor": 2
}
